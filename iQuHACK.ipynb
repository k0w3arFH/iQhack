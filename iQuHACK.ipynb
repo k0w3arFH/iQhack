{
  "nbformat": 4,
  "nbformat_minor": 0,
  "metadata": {
    "colab": {
      "provenance": []
    },
    "kernelspec": {
      "name": "python3",
      "display_name": "Python 3"
    },
    "language_info": {
      "name": "python"
    }
  },
  "cells": [
    {
      "cell_type": "code",
      "execution_count": 2,
      "metadata": {
        "id": "-2b_5q4K0Kwz",
        "colab": {
          "base_uri": "https://localhost:8080/"
        },
        "outputId": "41908e3b-8348-40cf-afeb-dd8c1822a13e"
      },
      "outputs": [
        {
          "output_type": "stream",
          "name": "stdout",
          "text": [
            "Requirement already satisfied: perceval-quandela in /usr/local/lib/python3.10/dist-packages (0.10.3)\n",
            "Requirement already satisfied: sympy in /usr/local/lib/python3.10/dist-packages (from perceval-quandela) (1.12)\n",
            "Requirement already satisfied: numpy in /usr/local/lib/python3.10/dist-packages (from perceval-quandela) (1.23.5)\n",
            "Requirement already satisfied: scipy in /usr/local/lib/python3.10/dist-packages (from perceval-quandela) (1.11.4)\n",
            "Requirement already satisfied: tabulate in /usr/local/lib/python3.10/dist-packages (from perceval-quandela) (0.9.0)\n",
            "Requirement already satisfied: matplotlib in /usr/local/lib/python3.10/dist-packages (from perceval-quandela) (3.7.1)\n",
            "Requirement already satisfied: exqalibur~=0.3.1 in /usr/local/lib/python3.10/dist-packages (from perceval-quandela) (0.3.1)\n",
            "Requirement already satisfied: multipledispatch in /usr/local/lib/python3.10/dist-packages (from perceval-quandela) (1.0.0)\n",
            "Requirement already satisfied: protobuf>=3.20.3 in /usr/local/lib/python3.10/dist-packages (from perceval-quandela) (3.20.3)\n",
            "Requirement already satisfied: drawsvg>=2.0 in /usr/local/lib/python3.10/dist-packages (from perceval-quandela) (2.3.0)\n",
            "Requirement already satisfied: Deprecated in /usr/local/lib/python3.10/dist-packages (from perceval-quandela) (1.2.14)\n",
            "Requirement already satisfied: requests in /usr/local/lib/python3.10/dist-packages (from perceval-quandela) (2.31.0)\n",
            "Requirement already satisfied: networkx~=3.1 in /usr/local/lib/python3.10/dist-packages (from perceval-quandela) (3.2.1)\n",
            "Requirement already satisfied: latexcodec in /usr/local/lib/python3.10/dist-packages (from perceval-quandela) (2.0.1)\n",
            "Requirement already satisfied: platformdirs in /usr/local/lib/python3.10/dist-packages (from perceval-quandela) (4.2.0)\n",
            "Requirement already satisfied: wrapt<2,>=1.10 in /usr/local/lib/python3.10/dist-packages (from Deprecated->perceval-quandela) (1.14.1)\n",
            "Requirement already satisfied: six>=1.4.1 in /usr/local/lib/python3.10/dist-packages (from latexcodec->perceval-quandela) (1.16.0)\n",
            "Requirement already satisfied: contourpy>=1.0.1 in /usr/local/lib/python3.10/dist-packages (from matplotlib->perceval-quandela) (1.2.0)\n",
            "Requirement already satisfied: cycler>=0.10 in /usr/local/lib/python3.10/dist-packages (from matplotlib->perceval-quandela) (0.12.1)\n",
            "Requirement already satisfied: fonttools>=4.22.0 in /usr/local/lib/python3.10/dist-packages (from matplotlib->perceval-quandela) (4.47.2)\n",
            "Requirement already satisfied: kiwisolver>=1.0.1 in /usr/local/lib/python3.10/dist-packages (from matplotlib->perceval-quandela) (1.4.5)\n",
            "Requirement already satisfied: packaging>=20.0 in /usr/local/lib/python3.10/dist-packages (from matplotlib->perceval-quandela) (23.2)\n",
            "Requirement already satisfied: pillow>=6.2.0 in /usr/local/lib/python3.10/dist-packages (from matplotlib->perceval-quandela) (9.4.0)\n",
            "Requirement already satisfied: pyparsing>=2.3.1 in /usr/local/lib/python3.10/dist-packages (from matplotlib->perceval-quandela) (3.1.1)\n",
            "Requirement already satisfied: python-dateutil>=2.7 in /usr/local/lib/python3.10/dist-packages (from matplotlib->perceval-quandela) (2.8.2)\n",
            "Requirement already satisfied: charset-normalizer<4,>=2 in /usr/local/lib/python3.10/dist-packages (from requests->perceval-quandela) (3.3.2)\n",
            "Requirement already satisfied: idna<4,>=2.5 in /usr/local/lib/python3.10/dist-packages (from requests->perceval-quandela) (3.6)\n",
            "Requirement already satisfied: urllib3<3,>=1.21.1 in /usr/local/lib/python3.10/dist-packages (from requests->perceval-quandela) (2.0.7)\n",
            "Requirement already satisfied: certifi>=2017.4.17 in /usr/local/lib/python3.10/dist-packages (from requests->perceval-quandela) (2023.11.17)\n",
            "Requirement already satisfied: mpmath>=0.19 in /usr/local/lib/python3.10/dist-packages (from sympy->perceval-quandela) (1.3.0)\n"
          ]
        }
      ],
      "source": [
        "!pip install perceval-quandela"
      ]
    },
    {
      "cell_type": "code",
      "source": [
        "import perceval as pcvl\n",
        "import math\n",
        "\n",
        "circ = pcvl.Circuit(m=4)\n",
        "circ.add(0, pcvl.PS(math.pi))\n",
        "circ.add(1, pcvl.PS(math.pi))\n",
        "circ.add(0, pcvl.PERM([0,2,1,3]))\n",
        "circ.add((0,1), pcvl.BS(0.95539))\n",
        "circ.add((2,3), pcvl.BS(0.95539))\n",
        "circ.add(0, pcvl.PERM([0,2,1,3]))\n",
        "circ.add((0,1), pcvl.BS(-0.95539))\n",
        "circ.add((2,3), pcvl.BS(0.09794444))\n"
      ],
      "metadata": {
        "id": "1mg-YB5500Ej",
        "colab": {
          "base_uri": "https://localhost:8080/"
        },
        "outputId": "c041ac00-c6aa-49e1-c45c-6a1613ed3846"
      },
      "execution_count": 4,
      "outputs": [
        {
          "output_type": "execute_result",
          "data": {
            "text/plain": [
              "<perceval.components.linear_circuit.Circuit at 0x7fc24fc72320>"
            ]
          },
          "metadata": {},
          "execution_count": 4
        }
      ]
    },
    {
      "cell_type": "code",
      "source": [
        "from perceval.rendering.circuit import SymbSkin, PhysSkin\n",
        "pcvl.pdisplay(circ, skin=PhysSkin())"
      ],
      "metadata": {
        "colab": {
          "base_uri": "https://localhost:8080/",
          "height": 302
        },
        "id": "ebjv6fF_6u_N",
        "outputId": "7fe087dc-9845-4d2a-ffc3-8099bdf4b8ed"
      },
      "execution_count": null,
      "outputs": [
        {
          "output_type": "execute_result",
          "data": {
            "text/plain": [
              "<drawsvg.drawing.Drawing at 0x7c92201ae260>"
            ],
            "image/svg+xml": "<?xml version=\"1.0\" encoding=\"UTF-8\"?>\n<svg xmlns=\"http://www.w3.org/2000/svg\" xmlns:xlink=\"http://www.w3.org/1999/xlink\"\n     width=\"570.0\" height=\"281.25\" viewBox=\"-28.0 0 456.0 225.0\">\n<defs>\n</defs>\n<path d=\"M10,25 L25,25\" stroke-width=\"3\" stroke=\"darkred\" stroke-linejoin=\"miter\" fill=\"none\" />\n<path d=\"M10,75 L25,75\" stroke-width=\"3\" stroke=\"darkred\" stroke-linejoin=\"miter\" fill=\"none\" />\n<path d=\"M10,125 L25,125\" stroke-width=\"3\" stroke=\"darkred\" stroke-linejoin=\"miter\" fill=\"none\" />\n<path d=\"M10,175 L25,175\" stroke-width=\"3\" stroke=\"darkred\" stroke-linejoin=\"miter\" fill=\"none\" />\n<path d=\"M25,25 L75,25\" stroke=\"darkred\" stroke-width=\"3\" fill=\"none\" />\n<path d=\"M30,40 L39,40 L53,10 L44,10 L30,40 L39,40 Z\" stroke=\"black\" fill=\"gray\" stroke-linejoin=\"miter\" />\n<text x=\"47\" y=\"38\" font-size=\"7\" text-anchor=\"start\">Φ=pi</text>\n<path d=\"M25,75 L75,75\" stroke=\"darkred\" stroke-width=\"3\" fill=\"none\" />\n<path d=\"M30,90 L39,90 L53,60 L44,60 L30,90 L39,90 Z\" stroke=\"black\" fill=\"gray\" stroke-linejoin=\"miter\" />\n<text x=\"47\" y=\"88\" font-size=\"7\" text-anchor=\"start\">Φ=pi</text>\n<path d=\"M25,125 L75,125\" stroke=\"darkred\" stroke-width=\"3\" fill=\"none\" />\n<path d=\"M25,175 L75,175\" stroke=\"darkred\" stroke-width=\"3\" fill=\"none\" />\n<path d=\"M78,25 L122,25\" stroke=\"white\" stroke-width=\"6\" fill=\"none\" />\n<path d=\"M75,25 L78,25 L122,25 L125,25\" stroke=\"darkred\" stroke-width=\"3\" fill=\"none\" />\n<path d=\"M78,75 L122,125\" stroke=\"white\" stroke-width=\"6\" fill=\"none\" />\n<path d=\"M75,75 L78,75 L122,125 L125,125\" stroke=\"darkred\" stroke-width=\"3\" fill=\"none\" />\n<path d=\"M78,125 L122,75\" stroke=\"white\" stroke-width=\"6\" fill=\"none\" />\n<path d=\"M75,125 L78,125 L122,75 L125,75\" stroke=\"darkred\" stroke-width=\"3\" fill=\"none\" />\n<path d=\"M78,175 L122,175\" stroke=\"white\" stroke-width=\"6\" fill=\"none\" />\n<path d=\"M75,175 L78,175 L122,175 L125,175\" stroke=\"darkred\" stroke-width=\"3\" fill=\"none\" />\n<path d=\"M125,25 L153,25 L172,44\" stroke=\"darkred\" stroke-width=\"3\" fill=\"none\" />\n<path d=\"M178,44 L197,25 L225,25\" stroke=\"darkred\" stroke-width=\"3\" fill=\"none\" />\n<path d=\"M125,75 L153,75 L172,56\" stroke=\"darkred\" stroke-width=\"3\" fill=\"none\" />\n<path d=\"M178,56 L197,75 L225,75\" stroke=\"darkred\" stroke-width=\"3\" fill=\"none\" />\n<path d=\"M150,43 L200,43 L200,57 L150,57 Z\" stroke=\"black\" fill=\"black\" stroke-linejoin=\"miter\" />\n<text x=\"175\" y=\"80\" font-size=\"7\" text-anchor=\"middle\"></text>\n<text x=\"175\" y=\"26\" font-size=\"7\" text-anchor=\"middle\">Θ=0.95539</text>\n<path d=\"M150,43 L200,43 L200,47 L150,47 Z\" stroke=\"black\" fill=\"lightgray\" stroke-linejoin=\"miter\" />\n<path d=\"M193,50 L203,50 L203,60 L193,60 Z\" stroke=\"black\" fill=\"thistle\" stroke-linejoin=\"miter\" />\n<text x=\"198\" y=\"57\" font-size=\"6\" text-anchor=\"middle\">Rx</text>\n<path d=\"M125,125 L153,125 L172,144\" stroke=\"darkred\" stroke-width=\"3\" fill=\"none\" />\n<path d=\"M178,144 L197,125 L225,125\" stroke=\"darkred\" stroke-width=\"3\" fill=\"none\" />\n<path d=\"M125,175 L153,175 L172,156\" stroke=\"darkred\" stroke-width=\"3\" fill=\"none\" />\n<path d=\"M178,156 L197,175 L225,175\" stroke=\"darkred\" stroke-width=\"3\" fill=\"none\" />\n<path d=\"M150,143 L200,143 L200,157 L150,157 Z\" stroke=\"black\" fill=\"black\" stroke-linejoin=\"miter\" />\n<text x=\"175\" y=\"180\" font-size=\"7\" text-anchor=\"middle\"></text>\n<text x=\"175\" y=\"126\" font-size=\"7\" text-anchor=\"middle\">Θ=0.95539</text>\n<path d=\"M150,143 L200,143 L200,147 L150,147 Z\" stroke=\"black\" fill=\"lightgray\" stroke-linejoin=\"miter\" />\n<path d=\"M193,150 L203,150 L203,160 L193,160 Z\" stroke=\"black\" fill=\"thistle\" stroke-linejoin=\"miter\" />\n<text x=\"198\" y=\"157\" font-size=\"6\" text-anchor=\"middle\">Rx</text>\n<path d=\"M228,25 L272,25\" stroke=\"white\" stroke-width=\"6\" fill=\"none\" />\n<path d=\"M225,25 L228,25 L272,25 L275,25\" stroke=\"darkred\" stroke-width=\"3\" fill=\"none\" />\n<path d=\"M228,75 L272,125\" stroke=\"white\" stroke-width=\"6\" fill=\"none\" />\n<path d=\"M225,75 L228,75 L272,125 L275,125\" stroke=\"darkred\" stroke-width=\"3\" fill=\"none\" />\n<path d=\"M228,125 L272,75\" stroke=\"white\" stroke-width=\"6\" fill=\"none\" />\n<path d=\"M225,125 L228,125 L272,75 L275,75\" stroke=\"darkred\" stroke-width=\"3\" fill=\"none\" />\n<path d=\"M228,175 L272,175\" stroke=\"white\" stroke-width=\"6\" fill=\"none\" />\n<path d=\"M225,175 L228,175 L272,175 L275,175\" stroke=\"darkred\" stroke-width=\"3\" fill=\"none\" />\n<path d=\"M275,25 L303,25 L322,44\" stroke=\"darkred\" stroke-width=\"3\" fill=\"none\" />\n<path d=\"M328,44 L347,25 L375,25\" stroke=\"darkred\" stroke-width=\"3\" fill=\"none\" />\n<path d=\"M275,75 L303,75 L322,56\" stroke=\"darkred\" stroke-width=\"3\" fill=\"none\" />\n<path d=\"M328,56 L347,75 L375,75\" stroke=\"darkred\" stroke-width=\"3\" fill=\"none\" />\n<path d=\"M300,43 L350,43 L350,57 L300,57 Z\" stroke=\"black\" fill=\"black\" stroke-linejoin=\"miter\" />\n<text x=\"325\" y=\"80\" font-size=\"7\" text-anchor=\"middle\"></text>\n<text x=\"325\" y=\"26\" font-size=\"7\" text-anchor=\"middle\">Θ=11.610981</text>\n<path d=\"M300,43 L350,43 L350,47 L300,47 Z\" stroke=\"black\" fill=\"lightgray\" stroke-linejoin=\"miter\" />\n<path d=\"M343,50 L353,50 L353,60 L343,60 Z\" stroke=\"black\" fill=\"thistle\" stroke-linejoin=\"miter\" />\n<text x=\"348\" y=\"57\" font-size=\"6\" text-anchor=\"middle\">Rx</text>\n<path d=\"M275,125 L303,125 L322,144\" stroke=\"darkred\" stroke-width=\"3\" fill=\"none\" />\n<path d=\"M328,144 L347,125 L375,125\" stroke=\"darkred\" stroke-width=\"3\" fill=\"none\" />\n<path d=\"M275,175 L303,175 L322,156\" stroke=\"darkred\" stroke-width=\"3\" fill=\"none\" />\n<path d=\"M328,156 L347,175 L375,175\" stroke=\"darkred\" stroke-width=\"3\" fill=\"none\" />\n<path d=\"M300,143 L350,143 L350,157 L300,157 Z\" stroke=\"black\" fill=\"black\" stroke-linejoin=\"miter\" />\n<text x=\"325\" y=\"180\" font-size=\"7\" text-anchor=\"middle\"></text>\n<text x=\"325\" y=\"126\" font-size=\"7\" text-anchor=\"middle\">Θ=0.097944</text>\n<path d=\"M300,143 L350,143 L350,147 L300,147 Z\" stroke=\"black\" fill=\"lightgray\" stroke-linejoin=\"miter\" />\n<path d=\"M343,150 L353,150 L353,160 L343,160 Z\" stroke=\"black\" fill=\"thistle\" stroke-linejoin=\"miter\" />\n<text x=\"348\" y=\"157\" font-size=\"6\" text-anchor=\"middle\">Rx</text>\n<path d=\"M375,25 L390,25\" stroke-width=\"3\" stroke=\"darkred\" stroke-linejoin=\"miter\" fill=\"none\" />\n<path d=\"M375,75 L390,75\" stroke-width=\"3\" stroke=\"darkred\" stroke-linejoin=\"miter\" fill=\"none\" />\n<path d=\"M375,125 L390,125\" stroke-width=\"3\" stroke=\"darkred\" stroke-linejoin=\"miter\" fill=\"none\" />\n<path d=\"M375,175 L390,175\" stroke-width=\"3\" stroke=\"darkred\" stroke-linejoin=\"miter\" fill=\"none\" />\n<text x=\"400\" y=\"28\" font-size=\"6\" text-anchor=\"end\">0</text>\n<text x=\"400\" y=\"78\" font-size=\"6\" text-anchor=\"end\">1</text>\n<text x=\"400\" y=\"128\" font-size=\"6\" text-anchor=\"end\">2</text>\n<text x=\"400\" y=\"178\" font-size=\"6\" text-anchor=\"end\">3</text>\n<text x=\"0\" y=\"28\" font-size=\"6\" text-anchor=\"start\">0</text>\n<text x=\"0\" y=\"78\" font-size=\"6\" text-anchor=\"start\">1</text>\n<text x=\"0\" y=\"128\" font-size=\"6\" text-anchor=\"start\">2</text>\n<text x=\"0\" y=\"178\" font-size=\"6\" text-anchor=\"start\">3</text>\n</svg>"
          },
          "metadata": {},
          "execution_count": 42
        }
      ]
    },
    {
      "cell_type": "code",
      "source": [
        "pcvl.pdisplay(circ.U)"
      ],
      "metadata": {
        "colab": {
          "base_uri": "https://localhost:8080/",
          "height": 119
        },
        "id": "sI4UeuX-C7nx",
        "outputId": "6ffb3d85-b970-49aa-a81e-4da93d839657"
      },
      "execution_count": null,
      "outputs": [
        {
          "output_type": "display_data",
          "data": {
            "text/plain": [
              "<IPython.core.display.Math object>"
            ],
            "text/latex": "$\\displaystyle \\left[\\begin{matrix}-0.788645175792376 + 9.65811790197135 \\cdot 10^{-17} i & - 0.40826947288744 i e^{3.14159265358979 i} & 0.40826947288744 i & 0.211354824207624\\\\- 0.40826947288744 i e^{3.14159265358979 i} & -0.788645175792376 + 9.65811790197135 \\cdot 10^{-17} i & 0.211354824207624 & 0.40826947288744 i\\\\0.459182253143699 i e^{3.14159265358979 i} & 0.022505168417492 - 2.75608824667537 \\cdot 10^{-18} i & 0.886992275445222 & 0.0434727396523799 i\\\\0.022505168417492 - 2.75608824667537 \\cdot 10^{-18} i & 0.459182253143699 i e^{3.14159265358979 i} & 0.0434727396523799 i & 0.886992275445222\\end{matrix}\\right]$"
          },
          "metadata": {}
        }
      ]
    },
    {
      "cell_type": "code",
      "source": [
        "math.pi"
      ],
      "metadata": {
        "colab": {
          "base_uri": "https://localhost:8080/"
        },
        "id": "wC4hC1ydEbG2",
        "outputId": "b42ab1db-ad2a-49f9-e62c-779d58706818"
      },
      "execution_count": null,
      "outputs": [
        {
          "output_type": "execute_result",
          "data": {
            "text/plain": [
              "3.141592653589793"
            ]
          },
          "metadata": {},
          "execution_count": 38
        }
      ]
    },
    {
      "cell_type": "code",
      "source": [],
      "metadata": {
        "id": "kBVgp_E-F8CT"
      },
      "execution_count": null,
      "outputs": []
    }
  ]
}